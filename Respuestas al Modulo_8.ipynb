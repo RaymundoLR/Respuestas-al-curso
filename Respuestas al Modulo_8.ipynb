{
  "cells": [
    {
      "cell_type": "markdown",
      "metadata": {},
      "source": [
        "Ejercicio 1"
      ]
    },
    {
      "cell_type": "code",
      "execution_count": 2,
      "metadata": {},
      "outputs": [
        {
          "name": "stdout",
          "output_type": "stream",
          "text": [
            "Mars has 2 moons\n",
            "Mars has a polar circumference of 6752\n"
          ]
        }
      ],
      "source": [
        "# Crea un diccionario llamado planet con los datos propuestos\n",
        "\n",
        "planet = {\n",
        "    'name': 'Mars',\n",
        "    'moons': 2\n",
        "}\n",
        "\n",
        "# Muestra el nombre del planeta y el número de lunas que tiene.\n",
        "print(f'{planet[\"name\"]} has {planet[\"moons\"]} moons')\n",
        "\n",
        "# Agrega la clave circunferencia con los datos proporcionados previamente\n",
        "planet['circumference (km)'] = {\n",
        "    'polar': 6752,\n",
        "    'equatorial': 6792\n",
        "}\n",
        "\n",
        "# Imprime el nombre del planeta con su circunferencia polar.\n",
        "print(f'{planet[\"name\"]} has a polar circumference of {planet[\"circumference (km)\"][\"polar\"]}')"
      ]
    },
    {
      "cell_type": "markdown",
      "metadata": {},
      "source": [
        "### Ejercicio 2"
      ]
    },
    {
      "cell_type": "code",
      "execution_count": 3,
      "metadata": {},
      "outputs": [
        {
          "name": "stdout",
          "output_type": "stream",
          "text": [
            "Number total moons: 214\n",
            "Number total planets : 12\n",
            "total average: 17.833333333333332\n"
          ]
        }
      ],
      "source": [
        "# Añade el código para determinar el número de lunas.\n",
        "# Planets and moons \n",
        "\n",
        "planet_moons  =  { \n",
        "    'mercury' :  0 , \n",
        "    'venus' :  0 , \n",
        "    'earth' :  1 , \n",
        "    'mars' :  2 , \n",
        "    'jupiter' :  79 , \n",
        "    'saturn' :  82 , \n",
        "    'uranus' :  27 , \n",
        "    'neptune' :  14 , \n",
        "    'pluto' :  5 , \n",
        "    'haumea' :  2 , \n",
        "    'makemake' :  1 , \n",
        "    'eris' :  1 \n",
        "} \n",
        "# Obtenemos la lista de las lunas\n",
        "# Almacenamos los resultados en una variable moons\n",
        "moons = planet_moons.values()\n",
        "\n",
        "# Obtenemos el total de planetas\n",
        "# Almacenamos los resultados en una variable llamada years\n",
        "planets = len(planet_moons.keys())\n",
        "\n",
        "# Calcula el total_moons agregando todas las lunas\n",
        "# Almacena su valor en una variable llamada total_moons\n",
        "\n",
        "total_moons = 0\n",
        "for moon in moons:\n",
        "    total_moons = total_moons + moon\n",
        "print ( 'Number total moons:' , total_moons ) \n",
        "\n",
        "planets  =  len ( planet_moons ) \n",
        "print ( 'Number total planets :' ,  planets ) \n",
        "\n",
        "# Calcula el promedio dividiendo el total_moons por el número de planetas\n",
        "average = total_moons / planets\n",
        "\n",
        "# Muestra el promedio\n",
        "print('total average:' , average)"
      ]
    }
  ],
  "metadata": {
    "interpreter": {
      "hash": "502cd6c3b6c9e666d195e1caff9d64ea12bf644e547a4c8fae84812082c54b6f"
    },
    "kernel_info": {
      "name": "conda-env-py37_default-py"
    },
    "kernelspec": {
      "display_name": "py37_default",
      "language": "python",
      "name": "python3"
    },
    "language_info": {
      "codemirror_mode": {
        "name": "ipython",
        "version": 3
      },
      "file_extension": ".py",
      "mimetype": "text/x-python",
      "name": "python",
      "nbconvert_exporter": "python",
      "pygments_lexer": "ipython3",
      "version": "3.10.2"
    },
    "nteract": {
      "version": "nteract-front-end@1.0.0"
    },
    "orig_nbformat": 4
  },
  "nbformat": 4,
  "nbformat_minor": 2
}
