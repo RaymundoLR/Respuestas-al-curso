{
  "cells": [
    {
      "cell_type": "code",
      "execution_count": 5,
      "metadata": {},
      "outputs": [
        {
          "name": "stdout",
          "output_type": "stream",
          "text": [
            "The number of planets without Pluto are: 8\n",
            "The number of planets with Pluto are: 9\n",
            "The last planet is: Pluto\n"
          ]
        }
      ],
      "source": [
        "#Creamos la lista planets y la mostramos\n",
        "\n",
        "planets = ['Mercury', 'Venus', 'Earth', 'Mars', 'Jupiter', 'Saturn', 'Uranus', 'Neptune']\n",
        "number_planets = len(planets)\n",
        "print('The number of planets without Pluto are:',number_planets)\n",
        "\n",
        "#Agregamos a plutón y mostramos el último elemento\n",
        "planets.append('Pluto')\n",
        "planets_with = len(planets)\n",
        "print('The number of planets with Pluto are:',planets_with)\n",
        "print('The last planet is:', planets[8])"
      ]
    },
    {
      "cell_type": "code",
      "execution_count": 6,
      "metadata": {},
      "outputs": [
        {
          "name": "stdout",
          "output_type": "stream",
          "text": [
            "The planet is: Venus and is in the position: 2\n",
            "the planets closest to the sun are: ['Mercury']\n",
            "The planets far to the son: ['Earth', 'Mars', 'Jupiter', 'Saturn', 'Uranus', 'Neptune']\n"
          ]
        }
      ],
      "source": [
        "#Creamos la lista planets y la mostramos\n",
        "planets = ['Mercury', 'Venus', 'Earth', 'Mars', 'Jupiter', 'Saturn', 'Uranus', 'Neptune']\n",
        "# Solicitamos el nombre de un planeta\n",
        "Index_planets = input('Ingrese un nombre de un planeta, primera letra con mayúscula:')\n",
        "# Busca el planeta en la lista\n",
        "search = planets.index(Index_planets)\n",
        "print('The planet is:', Index_planets, 'and is in the position:', search + 1)\n",
        "# Muestra los planetas más cercanos al sol\n",
        "Close_to_the_Sun = planets [0:search]\n",
        "print('the planets closest to the sun are:', Close_to_the_Sun)\n",
        "# Muestra los planetas más lejanos al sol\n",
        "far_to_the_Sun = planets [search + 1:]\n",
        "print('The planets far to the son:', far_to_the_Sun)"
      ]
    }
  ],
  "metadata": {
    "interpreter": {
      "hash": "502cd6c3b6c9e666d195e1caff9d64ea12bf644e547a4c8fae84812082c54b6f"
    },
    "kernel_info": {
      "name": "conda-env-py37_default-py"
    },
    "kernelspec": {
      "display_name": "py37_default",
      "language": "python",
      "name": "python3"
    },
    "language_info": {
      "codemirror_mode": {
        "name": "ipython",
        "version": 3
      },
      "file_extension": ".py",
      "mimetype": "text/x-python",
      "name": "python",
      "nbconvert_exporter": "python",
      "pygments_lexer": "ipython3",
      "version": "3.10.2"
    },
    "nteract": {
      "version": "nteract-front-end@1.0.0"
    },
    "orig_nbformat": 4
  },
  "nbformat": 4,
  "nbformat_minor": 2
}
