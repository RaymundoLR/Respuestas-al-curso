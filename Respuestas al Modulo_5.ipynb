{
  "cells": [
    {
      "cell_type": "markdown",
      "metadata": {},
      "source": [
        "### Prueba tu aplicación\n",
        "Para probar el proyecto, ejecuta tu notebook. En la parte superior de vscode surgirá un cuadro de diálogo para que proporciones las distancias. Puede utilizar los datos de la tabla siguiente:\n",
        "\n",
        "| Planeta  | Distancia al sol |\n",
        "| ------- | ----------------- |\n",
        "| Mercurio | 57900000          |\n",
        "| Venus   | 108200000         |\n",
        "| Tierra   | 149600000         |\n",
        "| Marte    | 227900000         |\n",
        "| Júpiter | 778600000         |\n",
        "| Saturno  | 1433500000        |\n",
        "| Urano  | 2872500000        |\n",
        "| Neptuno | 4495100000        |"
      ]
    },
    {
      "cell_type": "markdown",
      "metadata": {},
      "source": [
        "### Ejercicio 1"
      ]
    },
    {
      "cell_type": "code",
      "execution_count": null,
      "metadata": {},
      "outputs": [],
      "source": [
        "# Crear variables para almacenar las dos distancias\n",
        "# ¡Asegúrate de quitar las comas!\n",
        "\n",
        "first_planet = 149597870\n",
        "second_planet = 778547200"
      ]
    },
    {
      "cell_type": "code",
      "execution_count": 7,
      "metadata": {},
      "outputs": [
        {
          "name": "stdout",
          "output_type": "stream",
          "text": [
            "628949330\n",
            "390577533.93\n"
          ]
        }
      ],
      "source": [
        "# Calcular la distancia entre planetas\n",
        "first_planet = 149597870\n",
        "second_planet = 778547200\n",
        "distance_km = second_planet - first_planet\n",
        "print(distance_km)\n",
        "distance_mi = distance_km * 0.621\n",
        "print(distance_mi)"
      ]
    },
    {
      "cell_type": "markdown",
      "metadata": {},
      "source": [
        "### Ejercicio 2"
      ]
    },
    {
      "cell_type": "code",
      "execution_count": 13,
      "metadata": {},
      "outputs": [
        {
          "name": "stdout",
          "output_type": "stream",
          "text": [
            "628949330\n",
            "390577533.93\n"
          ]
        }
      ],
      "source": [
        "#Exploremos cómo podemos crear un programa que pueda calcular la distancia entre dos planetas. \n",
        "#Comenzaremos usando dos distancias de planetas: Tierra (149.597.870 km) y Júpiter (778.547.200 km).\n",
        "#Con los valores obtenidos, es el momento de añadir el código para realizar la operación. \n",
        "# Restarás el primer planeta del segundo para determinar la distancia en kilómetros. \n",
        "# A continuación, puedes convertir la distancia del kilómetro en millas multiplicándola por 0.621.\n",
        "\n",
        "Tierra = 149597870\n",
        "Jupiter = 778547200\n",
        "\n",
        "Distancia = Tierra - Jupiter\n",
        "print(abs(Distancia))\n",
        "\n",
        "from math import floor\n",
        "Millas_Dis = Distancia * 0.621\n",
        "print(abs(Millas_Dis))"
      ]
    },
    {
      "cell_type": "markdown",
      "metadata": {},
      "source": [
        "\n",
        "\n",
        "convierte cadenas en números y usa valores absolutos\n",
        "\n",
        "Crear una aplicación para trabajar con números y entrada de usuario Con frecuencia, deberás convertir los valores de cadena en números para realizar correctamente diferentes operaciones o determinar el valor absoluto de un número.\n",
        "\n",
        "Para crear nuestra aplicación, queremos leer la distancia del sol para dos planetas, y luego mostrar la distancia entre los planetas. Haremos esto usando input para leer los valores, int para convertir a entero y luego abs para convertir el resultado en su valor absoluto.\n"
      ]
    },
    {
      "cell_type": "code",
      "execution_count": 14,
      "metadata": {},
      "outputs": [
        {
          "name": "stdout",
          "output_type": "stream",
          "text": [
            "1622600000\n",
            "1007634600.0\n"
          ]
        }
      ],
      "source": [
        "#Lee los valores; Urano = 2872500000 y Neptuno = 4495100000\n",
        "\n",
        "Planeta_uno = input(\"Distancia del sol a Marte\")\n",
        "Planeta_dos = input(\"Distancia del sol a Saturno\")\n",
        "\n",
        "#Convertir de cadena a número para hacer operación\n",
        "Planeta_uno = int(Planeta_uno)\n",
        "Planeta_dos = int(Planeta_dos)\n",
        "\n",
        "Distancia = Planeta_uno - Planeta_dos\n",
        "Dis_Millas = Distancia * 0.621\n",
        "\n",
        "print(abs(Distancia))\n",
        "print(abs(Dis_Millas))"
      ]
    },
    {
      "cell_type": "code",
      "execution_count": 21,
      "metadata": {},
      "outputs": [
        {
          "name": "stdout",
          "output_type": "stream",
          "text": [
            "Calcular la distancia entre dos planetas a elección.\n",
            "----------------------------------------------------------------\n",
            "Distancia 1:2872500000\n",
            "Distancia 2:4495100000\n",
            "Distancia en Km = 1622600000 [Km]\n",
            "Distancia en millas = 1007634600.0 [millas]\n",
            "\n"
          ]
        }
      ],
      "source": [
        "#Se adecuan el ejercicio como se nos explicó en el módulo 4.\n",
        "#Lee los valores; Urano = 2872500000 y Neptuno = 4495100000\n",
        "Planeta_uno = input(\"Distancia del sol del primer planeta\")\n",
        "Planeta_dos = input(\"Distancia del sol del segundo planeta\")\n",
        "\n",
        "Planeta_uno = int(Planeta_uno)\n",
        "Planeta_dos = int(Planeta_dos)\n",
        "\n",
        "Distancia = Planeta_uno - Planeta_dos\n",
        "Millas = Distancia * 0.621\n",
        "\n",
        "\n",
        "multiline = (f'Calcular la distancia entre dos planetas a elección.')\n",
        "Calculo = f\"\"\"----------------------------------------------------------------\n",
        "Distancia 1:{Planeta_uno}\n",
        "Distancia 2:{Planeta_dos}\n",
        "Distancia en Km = {abs(Distancia)} [Km]\n",
        "Distancia en millas = {abs(Millas)} [millas]\n",
        "\"\"\"\n",
        "print(multiline)\n",
        "print(Calculo)\n",
        "\n"
      ]
    }
  ],
  "metadata": {
    "interpreter": {
      "hash": "502cd6c3b6c9e666d195e1caff9d64ea12bf644e547a4c8fae84812082c54b6f"
    },
    "kernel_info": {
      "name": "conda-env-py37_default-py"
    },
    "kernelspec": {
      "display_name": "py37_default",
      "language": "python",
      "name": "python3"
    },
    "language_info": {
      "codemirror_mode": {
        "name": "ipython",
        "version": 3
      },
      "file_extension": ".py",
      "mimetype": "text/x-python",
      "name": "python",
      "nbconvert_exporter": "python",
      "pygments_lexer": "ipython3",
      "version": "3.10.2"
    },
    "nteract": {
      "version": "nteract-front-end@1.0.0"
    },
    "orig_nbformat": 4
  },
  "nbformat": 4,
  "nbformat_minor": 2
}
