{
  "cells": [
    {
      "cell_type": "markdown",
      "metadata": {},
      "source": [
        "Transformar cadenas\n",
        "Hay varias operaciones que puedes realizar en las cadenas cuando las manipulamos. En este ejercicio, usarás métodos de cadena para modificar el texto con hechos sobre la Luna y luego extraerás información para crear un breve resumen.\n"
      ]
    },
    {
      "cell_type": "markdown",
      "metadata": {},
      "source": [
        "El texto con el que trabajarás es el siguiente: "
      ]
    },
    {
      "cell_type": "code",
      "execution_count": null,
      "metadata": {},
      "outputs": [],
      "source": [
        "text = \"\"\"Interesting facts about the Moon. The Moon is Earth's only satellite. There are several interesting facts about the Moon and how it affects life here on Earth. \n",
        "On average, the Moon moves 4cm away from the Earth every year. This yearly drift is not significant enough to cause immediate effects on Earth. The highest daylight temperature of the Moon is 127 C.\"\"\""
      ]
    },
    {
      "cell_type": "markdown",
      "metadata": {},
      "source": [
        "## Ejercicio 1"
      ]
    },
    {
      "cell_type": "code",
      "execution_count": 9,
      "metadata": {},
      "outputs": [
        {
          "data": {
            "text/plain": [
              "['Interesting facts about the Moon',\n",
              " \"The Moon is Earth's only satellite\",\n",
              " 'There are several interesting facts about the Moon and how it affects life here on Earth',\n",
              " '\\nOn average, the Moon moves 4cm away from the Earth every year',\n",
              " 'This yearly drift is not significant enough to cause immediate effects on Earth',\n",
              " 'The highest daylight temperature of the Moon is 127 C.']"
            ]
          },
          "execution_count": 9,
          "metadata": {},
          "output_type": "execute_result"
        }
      ],
      "source": [
        "# Divide el texto\n",
        "text = \"\"\"Interesting facts about the Moon. The Moon is Earth's only satellite. There are several interesting facts about the Moon and how it affects life here on Earth. \n",
        "On average, the Moon moves 4cm away from the Earth every year. This yearly drift is not significant enough to cause immediate effects on Earth. The highest daylight temperature of the Moon is 127 C.\"\"\"\n",
        "text_parts = text.split('. ')\n",
        "text_parts"
      ]
    },
    {
      "cell_type": "code",
      "execution_count": 15,
      "metadata": {},
      "outputs": [
        {
          "name": "stdout",
          "output_type": "stream",
          "text": [
            "\n",
            "On average, the Moon moves 4cm away from the Earth every year\n",
            "The highest daylight temperature of the Moon is 127 C.\n"
          ]
        }
      ],
      "source": [
        "# Ciclo for para recorrer la cadena\n",
        "text = \"\"\"Interesting facts about the Moon. The Moon is Earth's only satellite. There are several interesting facts about the Moon and how it affects life here on Earth. \n",
        "On average, the Moon moves 4cm away from the Earth every year. This yearly drift is not significant enough to cause immediate effects on Earth. The highest daylight temperature of the Moon is 127 C.\"\"\"\n",
        "key_words = [\"average\", \"temperature\", \"distance\"]\n",
        "for sentence in text_parts:\n",
        "    for key_word in key_words:\n",
        "        if key_word in sentence:\n",
        "            print(sentence)\n",
        "            break"
      ]
    },
    {
      "cell_type": "code",
      "execution_count": 19,
      "metadata": {},
      "outputs": [
        {
          "name": "stdout",
          "output_type": "stream",
          "text": [
            "The Moon is Earth's only satellite\n",
            "There are several interesting facts about the Moon and how it affects life here on Earth\n",
            "\n",
            "On average, the Moon moves 4cm away from the Earth every year\n",
            "This yearly drift is not significant enough to cause immediate effects on Earth\n",
            "The highest daylight temperature of the Moon is 127 Celsius.\n"
          ]
        }
      ],
      "source": [
        "# Ciclo para cambiar C a Celsius\n",
        "text = \"\"\"Interesting facts about the Moon. The Moon is Earth's only satellite. There are several interesting facts about the Moon and how it affects life here on Earth. \n",
        "On average, the Moon moves 4cm away from the Earth every year. This yearly drift is not significant enough to cause immediate effects on Earth. The highest daylight temperature of the Moon is 127 C.\"\"\"\n",
        "key_words  =  text  . split ( '-' ) \n",
        "for sentence in text_parts:\n",
        "    for key_words in key_words:\n",
        "        if key_words in sentence:\n",
        "            print(sentence.replace(' C', ' Celsius'))\n",
        "            break"
      ]
    },
    {
      "cell_type": "markdown",
      "metadata": {},
      "source": [
        "## Ejercicio 2"
      ]
    },
    {
      "cell_type": "code",
      "execution_count": null,
      "metadata": {},
      "outputs": [],
      "source": [
        "# Datos con los que vamos a trabajar\n",
        "\n",
        "planeta = 'Marte '\n",
        "gravedad  = 0.00143\n",
        "nombre = 'Ganímedes'"
      ]
    },
    {
      "cell_type": "code",
      "execution_count": 22,
      "metadata": {},
      "outputs": [
        {
          "name": "stdout",
          "output_type": "stream",
          "text": [
            "-------------------------------------------------------------------------------- \n",
            "Nombre del planeta: Marte  \n",
            "Gravedad en Ganímedes: 1.4300000000000002 m/s2 \n",
            "\n"
          ]
        }
      ],
      "source": [
        "# Creamos la plantilla\n",
        "planeta = 'Marte '\n",
        "gravedad  = 0.00143\n",
        "nombre = 'Ganímedes'\n",
        "title = f'datos de gravedad sobre {nombre}'\n",
        "hechos = f\"\"\"{'-'*80} \n",
        "Nombre del planeta: {planeta} \n",
        "Gravedad en {nombre}: {gravedad * 1000} m/s2 \n",
        "\"\"\"\n",
        "template = f\"\"\"{title.title()} \n",
        "{hechos} \n",
        "\"\"\" \n",
        "print(hechos)"
      ]
    },
    {
      "cell_type": "code",
      "execution_count": 2,
      "metadata": {},
      "outputs": [
        {
          "name": "stdout",
          "output_type": "stream",
          "text": [
            "\n",
            "Datos de Gravedad sobre: Ganímedes\n",
            "-------------------------------------------------------------------------------\n",
            "Nombre del planeta: Marte \n",
            "Gravedad en Ganímedes: 0.00143 m/s2\n",
            "\n"
          ]
        }
      ],
      "source": [
        "# Comprobamos la plantilla\n",
        "planeta = 'Marte '\n",
        "gravedad  = 0.00143\n",
        "nombre = 'Ganímedes'\n",
        "new_template = \"\"\"\n",
        "Datos de Gravedad sobre: {nombre}\n",
        "-------------------------------------------------------------------------------\n",
        "Nombre del planeta: {planeta}\n",
        "Gravedad en {nombre}: {gravedad} m/s2\n",
        "\"\"\"\n",
        "print(new_template.format(nombre=nombre, planeta=planeta, gravedad=gravedad))\n"
      ]
    },
    {
      "cell_type": "code",
      "execution_count": 3,
      "metadata": {},
      "outputs": [
        {
          "name": "stdout",
          "output_type": "stream",
          "text": [
            "\n",
            "Datos de Gravedad sobre: Ganímedes\n",
            "-------------------------------------------------------------------------------\n",
            "Nombre del planeta: Marte \n",
            "Gravedad en Ganímedes: 0.00143 m/s2\n",
            "\n"
          ]
        }
      ],
      "source": [
        "planeta = 'Marte '\n",
        "gravedad  = 0.00143\n",
        "nombre = 'Ganímedes'\n",
        "new_template = \"\"\"\n",
        "Datos de Gravedad sobre: {nombre}\n",
        "-------------------------------------------------------------------------------\n",
        "Nombre del planeta: {planeta}\n",
        "Gravedad en {nombre}: {gravedad} m/s2\n",
        "\"\"\"\n",
        "print(new_template.format(nombre=nombre, planeta=planeta, gravedad=gravedad))"
      ]
    },
    {
      "cell_type": "code",
      "execution_count": 4,
      "metadata": {},
      "outputs": [
        {
          "name": "stdout",
          "output_type": "stream",
          "text": [
            "\n",
            "Datos de Gravedad sobre: Ganímedes\n",
            "-------------------------------------------------------------------------------\n",
            "Nombre del planeta: Marte \n",
            "Gravedad en Ganímedes: 1.4300000000000002 m/s2\n",
            "\n"
          ]
        }
      ],
      "source": [
        "# Pista: print(nueva_plantilla.format(variables))\n",
        "planeta = 'Marte '\n",
        "gravedad  = 0.00143\n",
        "nombre = 'Ganímedes'\n",
        "new_template = \"\"\"\n",
        "Datos de Gravedad sobre: {nombre}\n",
        "-------------------------------------------------------------------------------\n",
        "Nombre del planeta: {planeta}\n",
        "Gravedad en {nombre}: {gravedad} m/s2\n",
        "\"\"\"\n",
        "print(new_template.format(nombre=nombre, planeta=planeta, gravedad=gravedad*1000))"
      ]
    }
  ],
  "metadata": {
    "interpreter": {
      "hash": "502cd6c3b6c9e666d195e1caff9d64ea12bf644e547a4c8fae84812082c54b6f"
    },
    "kernel_info": {
      "name": "conda-env-py37_default-py"
    },
    "kernelspec": {
      "display_name": "py37_default",
      "language": "python",
      "name": "python3"
    },
    "language_info": {
      "codemirror_mode": {
        "name": "ipython",
        "version": 3
      },
      "file_extension": ".py",
      "mimetype": "text/x-python",
      "name": "python",
      "nbconvert_exporter": "python",
      "pygments_lexer": "ipython3",
      "version": "3.10.2"
    },
    "nteract": {
      "version": "nteract-front-end@1.0.0"
    },
    "orig_nbformat": 4
  },
  "nbformat": 4,
  "nbformat_minor": 2
}
